{
  "nbformat": 4,
  "nbformat_minor": 0,
  "metadata": {
    "colab": {
      "provenance": []
    },
    "kernelspec": {
      "name": "python3",
      "display_name": "Python 3"
    },
    "language_info": {
      "name": "python"
    }
  },
  "cells": [
    {
      "cell_type": "code",
      "execution_count": 1,
      "metadata": {
        "id": "Y-qE_R_hYbCz"
      },
      "outputs": [],
      "source": [
        "#Description: This is a 'smart' Doctor chat bot program"
      ]
    },
    {
      "cell_type": "code",
      "source": [
        "pip install nltk"
      ],
      "metadata": {
        "colab": {
          "base_uri": "https://localhost:8080/"
        },
        "id": "m4VJy8QrbVj3",
        "outputId": "fc88f284-f091-4413-87e9-b888d10fd015"
      },
      "execution_count": 6,
      "outputs": [
        {
          "output_type": "stream",
          "name": "stdout",
          "text": [
            "Requirement already satisfied: nltk in /usr/local/lib/python3.11/dist-packages (3.9.1)\n",
            "Requirement already satisfied: click in /usr/local/lib/python3.11/dist-packages (from nltk) (8.2.1)\n",
            "Requirement already satisfied: joblib in /usr/local/lib/python3.11/dist-packages (from nltk) (1.5.1)\n",
            "Requirement already satisfied: regex>=2021.8.3 in /usr/local/lib/python3.11/dist-packages (from nltk) (2024.11.6)\n",
            "Requirement already satisfied: tqdm in /usr/local/lib/python3.11/dist-packages (from nltk) (4.67.1)\n"
          ]
        }
      ]
    },
    {
      "cell_type": "code",
      "source": [
        "pip install \"lxml[html_clean]\""
      ],
      "metadata": {
        "colab": {
          "base_uri": "https://localhost:8080/"
        },
        "id": "ccFAFgx3eAAQ",
        "outputId": "569594ba-92d5-4b81-b7f3-aca81b12367b"
      },
      "execution_count": 10,
      "outputs": [
        {
          "output_type": "stream",
          "name": "stdout",
          "text": [
            "Requirement already satisfied: lxml[html_clean] in /usr/local/lib/python3.11/dist-packages (5.4.0)\n",
            "Requirement already satisfied: lxml_html_clean in /usr/local/lib/python3.11/dist-packages (from lxml[html_clean]) (0.4.2)\n"
          ]
        }
      ]
    },
    {
      "cell_type": "code",
      "source": [
        "pip install newspaper3k"
      ],
      "metadata": {
        "colab": {
          "base_uri": "https://localhost:8080/"
        },
        "id": "HWY5feTJbXe9",
        "outputId": "719284c9-dace-4754-cbdf-15e12fff33b8"
      },
      "execution_count": 11,
      "outputs": [
        {
          "output_type": "stream",
          "name": "stdout",
          "text": [
            "Requirement already satisfied: newspaper3k in /usr/local/lib/python3.11/dist-packages (0.2.8)\n",
            "Requirement already satisfied: beautifulsoup4>=4.4.1 in /usr/local/lib/python3.11/dist-packages (from newspaper3k) (4.13.4)\n",
            "Requirement already satisfied: Pillow>=3.3.0 in /usr/local/lib/python3.11/dist-packages (from newspaper3k) (11.2.1)\n",
            "Requirement already satisfied: PyYAML>=3.11 in /usr/local/lib/python3.11/dist-packages (from newspaper3k) (6.0.2)\n",
            "Requirement already satisfied: cssselect>=0.9.2 in /usr/local/lib/python3.11/dist-packages (from newspaper3k) (1.3.0)\n",
            "Requirement already satisfied: lxml>=3.6.0 in /usr/local/lib/python3.11/dist-packages (from newspaper3k) (5.4.0)\n",
            "Requirement already satisfied: nltk>=3.2.1 in /usr/local/lib/python3.11/dist-packages (from newspaper3k) (3.9.1)\n",
            "Requirement already satisfied: requests>=2.10.0 in /usr/local/lib/python3.11/dist-packages (from newspaper3k) (2.32.3)\n",
            "Requirement already satisfied: feedparser>=5.2.1 in /usr/local/lib/python3.11/dist-packages (from newspaper3k) (6.0.11)\n",
            "Requirement already satisfied: tldextract>=2.0.1 in /usr/local/lib/python3.11/dist-packages (from newspaper3k) (5.3.0)\n",
            "Requirement already satisfied: feedfinder2>=0.0.4 in /usr/local/lib/python3.11/dist-packages (from newspaper3k) (0.0.4)\n",
            "Requirement already satisfied: jieba3k>=0.35.1 in /usr/local/lib/python3.11/dist-packages (from newspaper3k) (0.35.1)\n",
            "Requirement already satisfied: python-dateutil>=2.5.3 in /usr/local/lib/python3.11/dist-packages (from newspaper3k) (2.9.0.post0)\n",
            "Requirement already satisfied: tinysegmenter==0.3 in /usr/local/lib/python3.11/dist-packages (from newspaper3k) (0.3)\n",
            "Requirement already satisfied: soupsieve>1.2 in /usr/local/lib/python3.11/dist-packages (from beautifulsoup4>=4.4.1->newspaper3k) (2.7)\n",
            "Requirement already satisfied: typing-extensions>=4.0.0 in /usr/local/lib/python3.11/dist-packages (from beautifulsoup4>=4.4.1->newspaper3k) (4.14.0)\n",
            "Requirement already satisfied: six in /usr/local/lib/python3.11/dist-packages (from feedfinder2>=0.0.4->newspaper3k) (1.17.0)\n",
            "Requirement already satisfied: sgmllib3k in /usr/local/lib/python3.11/dist-packages (from feedparser>=5.2.1->newspaper3k) (1.0.0)\n",
            "Requirement already satisfied: click in /usr/local/lib/python3.11/dist-packages (from nltk>=3.2.1->newspaper3k) (8.2.1)\n",
            "Requirement already satisfied: joblib in /usr/local/lib/python3.11/dist-packages (from nltk>=3.2.1->newspaper3k) (1.5.1)\n",
            "Requirement already satisfied: regex>=2021.8.3 in /usr/local/lib/python3.11/dist-packages (from nltk>=3.2.1->newspaper3k) (2024.11.6)\n",
            "Requirement already satisfied: tqdm in /usr/local/lib/python3.11/dist-packages (from nltk>=3.2.1->newspaper3k) (4.67.1)\n",
            "Requirement already satisfied: charset-normalizer<4,>=2 in /usr/local/lib/python3.11/dist-packages (from requests>=2.10.0->newspaper3k) (3.4.2)\n",
            "Requirement already satisfied: idna<4,>=2.5 in /usr/local/lib/python3.11/dist-packages (from requests>=2.10.0->newspaper3k) (3.10)\n",
            "Requirement already satisfied: urllib3<3,>=1.21.1 in /usr/local/lib/python3.11/dist-packages (from requests>=2.10.0->newspaper3k) (2.4.0)\n",
            "Requirement already satisfied: certifi>=2017.4.17 in /usr/local/lib/python3.11/dist-packages (from requests>=2.10.0->newspaper3k) (2025.6.15)\n",
            "Requirement already satisfied: requests-file>=1.4 in /usr/local/lib/python3.11/dist-packages (from tldextract>=2.0.1->newspaper3k) (2.1.0)\n",
            "Requirement already satisfied: filelock>=3.0.8 in /usr/local/lib/python3.11/dist-packages (from tldextract>=2.0.1->newspaper3k) (3.18.0)\n"
          ]
        }
      ]
    },
    {
      "cell_type": "code",
      "source": [
        "#Importing the libraries\n",
        "from newspaper import Article\n",
        "import random\n",
        "import string\n",
        "import nltk\n",
        "from sklearn.feature_extraction.text import CountVectorizer\n",
        "from sklearn.metrics.pairwise import cosine_similarity\n",
        "import numpy as np\n",
        "import nltk\n",
        "nltk.download('punkt_tab')\n",
        "import warnings\n",
        "warnings.filterwarnings('ignore')"
      ],
      "metadata": {
        "colab": {
          "base_uri": "https://localhost:8080/"
        },
        "id": "jo3PI1qQbevn",
        "outputId": "884fcb8e-b562-47e0-d3b7-d96dfc04ebea"
      },
      "execution_count": 15,
      "outputs": [
        {
          "output_type": "stream",
          "name": "stderr",
          "text": [
            "[nltk_data] Downloading package punkt_tab to /root/nltk_data...\n",
            "[nltk_data]   Unzipping tokenizers/punkt_tab.zip.\n"
          ]
        }
      ]
    },
    {
      "cell_type": "code",
      "source": [
        "#Download the punkt package\n",
        "nltk.download('punkt',quiet=True)"
      ],
      "metadata": {
        "colab": {
          "base_uri": "https://localhost:8080/"
        },
        "id": "WOrDdbjBc8Gc",
        "outputId": "a59a6691-5ecd-42fe-fae7-9b8c5988f732"
      },
      "execution_count": 16,
      "outputs": [
        {
          "output_type": "execute_result",
          "data": {
            "text/plain": [
              "True"
            ]
          },
          "metadata": {},
          "execution_count": 16
        }
      ]
    },
    {
      "cell_type": "code",
      "source": [
        "#Getting the article\n",
        "article = Article('https://www.mayoclinic.org/diseases-conditions/heart-disease/symptoms-causes/syc-20353118')\n",
        "article.download()\n",
        "article.parse()\n",
        "article.nlp()\n",
        "corpus = article.text"
      ],
      "metadata": {
        "id": "M_jSv2UggBnR"
      },
      "execution_count": 18,
      "outputs": []
    },
    {
      "cell_type": "code",
      "source": [
        "#Print the article text\n",
        "print(corpus)"
      ],
      "metadata": {
        "colab": {
          "base_uri": "https://localhost:8080/"
        },
        "id": "TSx--DDUgsf6",
        "outputId": "8bcf7ff7-5d13-4d7f-8a8a-c601f30e7651"
      },
      "execution_count": 19,
      "outputs": [
        {
          "output_type": "stream",
          "name": "stdout",
          "text": [
            "Overview\n",
            "\n",
            "Heart disease describes a range of conditions that affect the heart. Heart disease includes:\n",
            "\n",
            "Blood vessel disease, such as coronary artery disease.\n",
            "\n",
            "Irregular heartbeats, called arrhythmias.\n",
            "\n",
            "Heart conditions that you're born with, called congenital heart defects.\n",
            "\n",
            "Disease of the heart muscle.\n",
            "\n",
            "Heart valve disease.\n",
            "\n",
            "Many forms of heart disease can be prevented or treated with healthy lifestyle choices.\n",
            "\n",
            "Symptoms\n",
            "\n",
            "Heart disease symptoms depend on the type of heart disease.\n",
            "\n",
            "Symptoms of heart disease in the blood vessels\n",
            "\n",
            "Coronary artery disease is a common heart condition that affects the major blood vessels that supply the heart muscle. A buildup of fats, cholesterol and other substances in and on the artery walls usually causes coronary artery disease. This buildup is called plaque. The buildup of plaque in the arteries is called atherosclerosis (ath-ur-o-skluh-ROE-sis). Atherosclerosis reduces blood flow to the heart and other parts of the body. It can lead to a heart attack, chest pain or a stroke.\n",
            "\n",
            "Symptoms of coronary artery disease can include:\n",
            "\n",
            "Chest pain, chest tightness, chest pressure and chest discomfort, called angina.\n",
            "\n",
            "Shortness of breath.\n",
            "\n",
            "Pain in the neck, jaw, throat, upper belly or back.\n",
            "\n",
            "Pain, numbness, weakness or coldness in the legs or arms if the blood vessels in those body areas are narrowed.\n",
            "\n",
            "You might not be diagnosed with coronary artery disease until you have a heart attack, angina, a stroke or heart failure. It's important to watch for heart symptoms. Talk with your healthcare team about any concerns. Heart disease can sometimes be found early with regular health checkups.\n",
            "\n",
            "What is coronary artery disease? A Mayo Clinic cardiologist explains. Stephen Kopecky, M.D., talks about the risk factors, symptoms and treatment of coronary artery disease (CAD). Learn how lifestyle changes can lower your risk.\n",
            "\n",
            "Show transcript for video What is coronary artery disease? A Mayo Clinic cardiologist explains. {Music playing} Stephen Kopecky, M.D., Cardiovascular Disease, Mayo Clinic: I'm Dr. Stephen Kopecky, a cardiologist at Mayo Clinic. In this video, we'll cover the basics of coronary artery disease. What is it? Who gets it? The symptoms, diagnosis and treatment. Whether you're looking for answers for yourself or someone you love, we're here to give you the best information available. Coronary artery disease, also called CAD, is a condition that affects your heart. It is the most common heart disease in the United States. CAD happens when coronary arteries struggle to supply the heart with enough blood, oxygen and nutrients. Cholesterol deposits, or plaques, are almost always to blame. These buildups narrow your arteries, decreasing blood flow to your heart. This can cause chest pain, shortness of breath or even a heart attack. CAD typically takes a long time to develop. So often, patients don't know that they have it until there's a problem. But there are ways to prevent coronary artery disease, and ways to know if you're at risk and ways to treat it. Who gets it? Anyone can develop CAD . It begins when fats, cholesterols and other substances gather along the walls of your arteries. This process is called atherosclerosis. It's typically no cause for concern. However, too much buildup can lead to a blockage, obstructing blood flow. There are a number of risk factors, common red flags, that can contribute to this and ultimately lead to coronary artery disease. First, getting older can mean more damaged and narrowed arteries. Second, men are generally at a greater risk. But the risk for women increases after menopause. Existing health conditions matter, too. High blood pressure can thicken your arteries, narrowing your blood flow. High cholesterol levels can increase the rate of plaque buildup. Diabetes is also associated with higher risk, as is being overweight. Your lifestyle plays a large role as well. Physical inactivity, long periods of unrelieved stress in your life, an unhealthy diet and smoking can all increase your risk. And finally, family history. If a close relative was diagnosed at an early age with heart disease, you're at a greater risk. All these factors together can paint a picture of your risk for developing CAD . What are the symptoms? When coronary arteries become narrow, the heart doesn't get enough oxygen-rich blood. Remember, unlike most pumps, the heart has to pump its own energy supply. It's working harder with less. And you may begin to notice these signs and symptoms of pressure or tightness in your chest. This pain is called angina. It may feel like somebody is standing on your chest. When your heart can't pump enough blood to meet your body's needs, you might develop shortness of breath or extreme fatigue during activities. And if an artery becomes totally blocked, it leads to a heart attack. Classic signs and symptoms of a heart attack include crushing, substernal chest pain, pain in your shoulders or arms, shortness of breath, and sweating. However, many heart attacks have minimal or no symptoms and are found later during routine testing. How is it diagnosed? Diagnosing CAD starts by talking to your doctor. They'll be able to look at your medical history, do a physical exam and order routine blood work. Depending on that, they may suggest one or more of the following tests: an electrocardiogram or ECG, an echocardiogram or soundwave test of the heart, stress test, cardiac catheterization and angiogram, or a cardiac CT scan. How is it treated? Treating coronary artery disease usually means making changes to your lifestyle. This might be eating healthier foods, exercising regularly, losing excess weight, reducing stress or quitting smoking. The good news is these changes can do a lot to improve your outlook. Living a healthier life translates to having healthier arteries. When necessary, treatment could involve drugs like aspirin, cholesterol-modifying medications, beta-blockers, or certain medical procedures like angioplasty or coronary artery bypass surgery. What now? Discovering you have coronary artery disease can be overwhelming. But be encouraged. There are things you can do to manage and live with this condition. Reducing cholesterol, lowering blood pressure, quitting tobacco, eating healthier, exercising and managing your stress can make a world of difference. Better heart health starts by educating yourself. So don't be afraid to seek out information and ask your doctors about coronary artery disease. If you'd like to learn even more about this condition, watch our other related videos or visit Mayoclinic.org. We wish you well.\n",
            "\n",
            "Heart disease symptoms caused by irregular heartbeats, called arrhythmias\n",
            "\n",
            "The heart may beat too quickly, too slowly or irregularly. Heart arrhythmia symptoms can include:\n",
            "\n",
            "Chest pain or discomfort.\n",
            "\n",
            "Dizziness.\n",
            "\n",
            "Fainting or almost fainting.\n",
            "\n",
            "Fluttering in the chest.\n",
            "\n",
            "Lightheadedness.\n",
            "\n",
            "Racing heartbeat.\n",
            "\n",
            "Shortness of breath.\n",
            "\n",
            "Slow heartbeat.\n",
            "\n",
            "Heart disease symptoms caused by congenital heart defects\n",
            "\n",
            "A congenital heart defect is a heart condition present at birth. Serious congenital heart defects usually are noticed soon after birth. Congenital heart defect symptoms in children could include:\n",
            "\n",
            "Blue or gray skin. Depending on skin color, these changes may be easier or harder to see.\n",
            "\n",
            "Swelling in the legs, belly area or areas around the eyes.\n",
            "\n",
            "In an infant, shortness of breath during feedings, leading to poor weight gain.\n",
            "\n",
            "Some congenital heart defects may not be found until later in childhood or during adulthood. Symptoms may include:\n",
            "\n",
            "Getting very short of breath during exercise or activity.\n",
            "\n",
            "Easily tiring during exercise or activity.\n",
            "\n",
            "Swelling of the hands, ankles or feet.\n",
            "\n",
            "Heart disease symptoms caused by diseased heart muscle, called cardiomyopathy\n",
            "\n",
            "In the beginning, cardiomyopathy may not cause noticeable symptoms. As the condition gets worse, symptoms may include:\n",
            "\n",
            "Dizziness, lightheadedness and fainting.\n",
            "\n",
            "Fatigue.\n",
            "\n",
            "Feeling short of breath during activity or at rest.\n",
            "\n",
            "Feeling short of breath at night when trying to sleep, or waking up short of breath.\n",
            "\n",
            "Rapid, pounding or fluttering heartbeats.\n",
            "\n",
            "Swollen legs, ankles or feet.\n",
            "\n",
            "Heart disease symptoms caused by heart valve disease\n",
            "\n",
            "The heart has four valves. The valves open and close to move blood through the heart. Many things can damage the heart valves. If a heart valve is narrowed, it's called stenosis. If a heart valve lets blood flow backward, it's called regurgitation.\n",
            "\n",
            "Symptoms of heart valve disease depend on which valve isn't working right. Symptoms may include:\n",
            "\n",
            "Chest pain.\n",
            "\n",
            "Fainting or almost fainting.\n",
            "\n",
            "Fatigue.\n",
            "\n",
            "Irregular heartbeats.\n",
            "\n",
            "Shortness of breath.\n",
            "\n",
            "Swollen feet or ankles.\n",
            "\n",
            "When to see a doctor\n",
            "\n",
            "Get emergency medical help if you have these heart disease symptoms:\n",
            "\n",
            "Chest pain.\n",
            "\n",
            "Shortness of breath.\n",
            "\n",
            "Fainting.\n",
            "\n",
            "Always call 911 or your local emergency number if you think you might be having a heart attack.\n",
            "\n",
            "If you think you may have symptoms of heart disease, make an appointment for a health checkup.\n",
            "\n",
            "Heart disease is easier to treat when found early.\n",
            "\n",
            "There is a problem with information submitted for this request. Review/update the information highlighted below and resubmit the form. From Mayo Clinic to your inbox Sign up for free and stay up to date on research advancements, health tips, current health topics, and expertise on managing health. Click here for an email preview. Email Address 1 ErrorEmail field is required ErrorInclude a valid email address Learn more about Mayo Clinic’s use of data. We use the data you provide to deliver you the content you requested. To provide you with the most relevant and helpful information, we may combine your email and website data with other information we have about you. If you are a Mayo Clinic patient, we will only use your protected health information as outlined in our Notice of Privacy Practices. You may opt out of email communications at any time by clicking on the unsubscribe link in the email. Subscribe! Thank you for subscribing! You'll soon start receiving the latest Mayo Clinic health information you requested in your inbox. Sorry something went wrong with your subscription Please, try again in a couple of minutes Retry\n",
            "\n",
            "Causes\n",
            "\n",
            "Heart disease causes depend on the specific type of heart disease. There are many different types of heart disease.\n",
            "\n",
            "How the heart works\n",
            "\n",
            "Chambers and valves of the heart Enlarge image Close Chambers and valves of the heart Chambers and valves of the heart A typical heart has two upper and two lower chambers. The upper chambers, the right and left atria, receive incoming blood. The lower chambers, the more muscular right and left ventricles, pump blood out of the heart. The heart valves are gates at the chamber openings. They keep blood flowing in the right direction.\n",
            "\n",
            "To understand the causes of heart disease, it may help to understand how the heart works.\n",
            "\n",
            "The heart has four chambers. The two upper chambers are called the atria. The two lower chambers are called the ventricles.\n",
            "\n",
            "The right side of the heart moves blood to the lungs through blood vessels called the pulmonary arteries.\n",
            "\n",
            "In the lungs, blood gets oxygen. The oxygen-rich blood goes to the left side of the heart through the pulmonary veins.\n",
            "\n",
            "The left side of the heart then pumps the blood through the body's main artery, called the aorta. The blood then goes to the rest of the body.\n",
            "\n",
            "Heart valves\n",
            "\n",
            "Four valves in the heart keep blood flowing in the right direction. These valves are:\n",
            "\n",
            "Aortic valve.\n",
            "\n",
            "Mitral valve.\n",
            "\n",
            "Pulmonary valve.\n",
            "\n",
            "Tricuspid valve.\n",
            "\n",
            "Each valve has flaps, called leaflets or cusps. The flaps open and close once during each heartbeat. If a valve flap doesn't open or close properly, less blood moves out of the heart to the rest of the body.\n",
            "\n",
            "Heartbeats\n",
            "\n",
            "The heart's electrical system keeps the heart beating. The heart's electrical signals start in a group of cells at the top of the heart called the sinus node. They pass through a pathway between the upper and lower heart chambers called the atrioventricular (AV) node. The movement of the signals causes the heart to squeeze and pump blood.\n",
            "\n",
            "Causes of coronary artery disease\n",
            "\n",
            "Development of atherosclerosis Enlarge image Close Development of atherosclerosis Development of atherosclerosis If there's too much cholesterol in the blood, the cholesterol and other substances may form deposits called plaque. Plaque can cause an artery to become narrowed or blocked. If a plaque ruptures, a blood clot can form. Plaque and blood clots can reduce blood flow through an artery.\n",
            "\n",
            "A buildup of fatty substances in the arteries, called atherosclerosis, is the most common cause of coronary artery disease. Risk factors include an unhealthy diet, lack of exercise, obesity, and smoking. Healthy-lifestyle choices can help lower the risk of atherosclerosis.\n",
            "\n",
            "Causes of irregular heartbeats, called arrhythmias\n",
            "\n",
            "Common causes of arrhythmias or conditions that can lead to them include:\n",
            "\n",
            "Heart muscle disease, called cardiomyopathy.\n",
            "\n",
            "Coronary artery disease.\n",
            "\n",
            "Diabetes.\n",
            "\n",
            "Illegal drugs such as cocaine.\n",
            "\n",
            "Emotional stress.\n",
            "\n",
            "Too much alcohol or caffeine.\n",
            "\n",
            "Heart conditions present at birth, called congenital heart defects.\n",
            "\n",
            "High blood pressure.\n",
            "\n",
            "Smoking.\n",
            "\n",
            "Heart valve disease.\n",
            "\n",
            "Some medicines, herbs and supplements.\n",
            "\n",
            "Causes of congenital heart defects\n",
            "\n",
            "A congenital heart defect happens while a baby is growing in the womb. Healthcare professionals aren't sure exactly what causes most congenital heart defects. But gene changes, some medical conditions, some medicines, and environmental or lifestyle factors may play a role.\n",
            "\n",
            "Causes of heart muscle disease, called cardiomyopathy\n",
            "\n",
            "The cause of cardiomyopathy depends on the type. There are three types:\n",
            "\n",
            "Dilated cardiomyopathy. This is the most common type of cardiomyopathy. The cause is often unknown. It may be passed down through families, which means it's inherited.\n",
            "\n",
            "This is the most common type of cardiomyopathy. The cause is often unknown. It may be passed down through families, which means it's inherited. Hypertrophic cardiomyopathy. This type is usually passed down through families.\n",
            "\n",
            "This type is usually passed down through families. Restrictive cardiomyopathy. This type of cardiomyopathy can happen for no known reason. Sometimes a buildup of protein called amyloid causes it. Other causes include connective tissue disorders.\n",
            "\n",
            "Causes of heart valve disease\n",
            "\n",
            "Many things can cause a damaged or diseased heart valve. Some people are born with heart valve disease. If this happens, it's called congenital heart valve disease.\n",
            "\n",
            "Other causes of heart valve disease can include:\n",
            "\n",
            "Rheumatic fever.\n",
            "\n",
            "Infection in the lining of the heart valves, called infectious endocarditis.\n",
            "\n",
            "Connective tissue disorders.\n",
            "\n",
            "Risk factors\n",
            "\n",
            "Risk factors for heart disease include:\n",
            "\n",
            "Age. Growing older increases the risk of damaged and narrowed arteries and a weakened or thickened heart muscle.\n",
            "\n",
            "Growing older increases the risk of damaged and narrowed arteries and a weakened or thickened heart muscle. Sex assigned at birth. Men are generally at greater risk of heart disease. The risk in women increases after menopause.\n",
            "\n",
            "Men are generally at greater risk of heart disease. The risk in women increases after menopause. Family history. A family history of heart disease increases the risk of coronary artery disease, especially if a parent developed it at an early age. That means before age 55 for a male relative, such as a brother or your father, and 65 for a female relative, such as your mother or a sister.\n",
            "\n",
            "A family history of heart disease increases the risk of coronary artery disease, especially if a parent developed it at an early age. That means before age 55 for a male relative, such as a brother or your father, and 65 for a female relative, such as your mother or a sister. Smoking. If you smoke, quit. Substances in tobacco smoke damage the arteries. Heart attacks are more common in people who smoke than in people who don't smoke. Talk with a healthcare professional if you need help quitting.\n",
            "\n",
            "If you smoke, quit. Substances in tobacco smoke damage the arteries. Heart attacks are more common in people who smoke than in people who don't smoke. Talk with a healthcare professional if you need help quitting. Unhealthy diet. Diets high in fat, salt, sugar and cholesterol have been linked to heart disease.\n",
            "\n",
            "Diets high in fat, salt, sugar and cholesterol have been linked to heart disease. High blood pressure. High blood pressure that's not controlled can cause the arteries to become hard and thick. These changes alter blood flow to the heart and body.\n",
            "\n",
            "High blood pressure that's not controlled can cause the arteries to become hard and thick. These changes alter blood flow to the heart and body. High cholesterol. Having high cholesterol increases the risk of atherosclerosis. Atherosclerosis has been linked to heart attack and stroke.\n",
            "\n",
            "Having high cholesterol increases the risk of atherosclerosis. Atherosclerosis has been linked to heart attack and stroke. Diabetes. Diabetes increases the risk of heart disease. Obesity and high blood pressure increase the risk of diabetes and heart disease.\n",
            "\n",
            "Diabetes increases the risk of heart disease. Obesity and high blood pressure increase the risk of diabetes and heart disease. Obesity. Excess weight typically worsens other heart disease risk factors.\n",
            "\n",
            "Excess weight typically worsens other heart disease risk factors. Lack of exercise. Being inactive is associated with many forms of heart disease and some of its risk factors too.\n",
            "\n",
            "Being inactive is associated with many forms of heart disease and some of its risk factors too. Stress. Emotional stress may damage the arteries and make other heart disease risk factors worse.\n",
            "\n",
            "Emotional stress may damage the arteries and make other heart disease risk factors worse. Poor dental health. Having unhealthy teeth and gums makes it easier for germs to get into the bloodstream and travel to the heart. This can cause an infection called endocarditis. Brush and floss your teeth often. Also get regular dental checkups.\n",
            "\n",
            "Complications\n",
            "\n",
            "Possible complications of heart disease are:\n",
            "\n",
            "Heart failure. This is one of the most common complications of heart disease. The heart can't pump enough blood to meet the body's needs.\n",
            "\n",
            "This is one of the most common complications of heart disease. The heart can't pump enough blood to meet the body's needs. Heart attack. A heart attack can happen if a piece of plaque in an artery or a blood clot moves to the heart.\n",
            "\n",
            "A heart attack can happen if a piece of plaque in an artery or a blood clot moves to the heart. Stroke. The risk factors that lead to heart disease also can lead to an ischemic stroke. This type of stroke happens when the arteries to the brain are narrowed or blocked. Too little blood reaches the brain.\n",
            "\n",
            "The risk factors that lead to heart disease also can lead to an ischemic stroke. This type of stroke happens when the arteries to the brain are narrowed or blocked. Too little blood reaches the brain. Aneurysm. An aneurysm is a bulge in the wall of an artery. If an aneurysm bursts, you may have life-threatening internal bleeding.\n",
            "\n",
            "An aneurysm is a bulge in the wall of an artery. If an aneurysm bursts, you may have life-threatening internal bleeding. Peripheral artery disease. In this condition, the arms or legs — usually the legs — don't get enough blood. This causes symptoms, most notably leg pain when walking, called claudication. Atherosclerosis can lead to peripheral artery disease.\n",
            "\n",
            "In this condition, the arms or legs — usually the legs — don't get enough blood. This causes symptoms, most notably leg pain when walking, called claudication. Atherosclerosis can lead to peripheral artery disease. Sudden cardiac arrest. Sudden cardiac arrest is the sudden loss of heart activity, breathing and consciousness. It's usually due to a problem with the heart's electrical system. Sudden cardiac arrest is a medical emergency. If not treated immediately, it results in sudden cardiac death.\n",
            "\n",
            "Prevention\n",
            "\n",
            "The same lifestyle changes used to manage heart disease also may help prevent it. Try these heart-healthy tips:\n"
          ]
        }
      ]
    },
    {
      "cell_type": "code",
      "source": [
        "#Tokenization\n",
        "text = corpus\n",
        "sentence_list = nltk.sent_tokenize(text) #List of sentS"
      ],
      "metadata": {
        "id": "dHXYV7Ynhiii"
      },
      "execution_count": 21,
      "outputs": []
    },
    {
      "cell_type": "code",
      "source": [
        "#Printing the list of sent\n",
        "print(sentence_list)"
      ],
      "metadata": {
        "colab": {
          "base_uri": "https://localhost:8080/"
        },
        "id": "tje0UZZyh_ps",
        "outputId": "11f79a89-8d44-4a45-f857-f473e1df6cd0"
      },
      "execution_count": 24,
      "outputs": [
        {
          "output_type": "stream",
          "name": "stdout",
          "text": [
            "['Overview\\n\\nHeart disease describes a range of conditions that affect the heart.', 'Heart disease includes:\\n\\nBlood vessel disease, such as coronary artery disease.', 'Irregular heartbeats, called arrhythmias.', \"Heart conditions that you're born with, called congenital heart defects.\", 'Disease of the heart muscle.', 'Heart valve disease.', 'Many forms of heart disease can be prevented or treated with healthy lifestyle choices.', 'Symptoms\\n\\nHeart disease symptoms depend on the type of heart disease.', 'Symptoms of heart disease in the blood vessels\\n\\nCoronary artery disease is a common heart condition that affects the major blood vessels that supply the heart muscle.', 'A buildup of fats, cholesterol and other substances in and on the artery walls usually causes coronary artery disease.', 'This buildup is called plaque.', 'The buildup of plaque in the arteries is called atherosclerosis (ath-ur-o-skluh-ROE-sis).', 'Atherosclerosis reduces blood flow to the heart and other parts of the body.', 'It can lead to a heart attack, chest pain or a stroke.', 'Symptoms of coronary artery disease can include:\\n\\nChest pain, chest tightness, chest pressure and chest discomfort, called angina.', 'Shortness of breath.', 'Pain in the neck, jaw, throat, upper belly or back.', 'Pain, numbness, weakness or coldness in the legs or arms if the blood vessels in those body areas are narrowed.', 'You might not be diagnosed with coronary artery disease until you have a heart attack, angina, a stroke or heart failure.', \"It's important to watch for heart symptoms.\", 'Talk with your healthcare team about any concerns.', 'Heart disease can sometimes be found early with regular health checkups.', 'What is coronary artery disease?', 'A Mayo Clinic cardiologist explains.', 'Stephen Kopecky, M.D., talks about the risk factors, symptoms and treatment of coronary artery disease (CAD).', 'Learn how lifestyle changes can lower your risk.', 'Show transcript for video What is coronary artery disease?', 'A Mayo Clinic cardiologist explains.', \"{Music playing} Stephen Kopecky, M.D., Cardiovascular Disease, Mayo Clinic: I'm Dr. Stephen Kopecky, a cardiologist at Mayo Clinic.\", \"In this video, we'll cover the basics of coronary artery disease.\", 'What is it?', 'Who gets it?', 'The symptoms, diagnosis and treatment.', \"Whether you're looking for answers for yourself or someone you love, we're here to give you the best information available.\", 'Coronary artery disease, also called CAD, is a condition that affects your heart.', 'It is the most common heart disease in the United States.', 'CAD happens when coronary arteries struggle to supply the heart with enough blood, oxygen and nutrients.', 'Cholesterol deposits, or plaques, are almost always to blame.', 'These buildups narrow your arteries, decreasing blood flow to your heart.', 'This can cause chest pain, shortness of breath or even a heart attack.', 'CAD typically takes a long time to develop.', \"So often, patients don't know that they have it until there's a problem.\", \"But there are ways to prevent coronary artery disease, and ways to know if you're at risk and ways to treat it.\", 'Who gets it?', 'Anyone can develop CAD .', 'It begins when fats, cholesterols and other substances gather along the walls of your arteries.', 'This process is called atherosclerosis.', \"It's typically no cause for concern.\", 'However, too much buildup can lead to a blockage, obstructing blood flow.', 'There are a number of risk factors, common red flags, that can contribute to this and ultimately lead to coronary artery disease.', 'First, getting older can mean more damaged and narrowed arteries.', 'Second, men are generally at a greater risk.', 'But the risk for women increases after menopause.', 'Existing health conditions matter, too.', 'High blood pressure can thicken your arteries, narrowing your blood flow.', 'High cholesterol levels can increase the rate of plaque buildup.', 'Diabetes is also associated with higher risk, as is being overweight.', 'Your lifestyle plays a large role as well.', 'Physical inactivity, long periods of unrelieved stress in your life, an unhealthy diet and smoking can all increase your risk.', 'And finally, family history.', \"If a close relative was diagnosed at an early age with heart disease, you're at a greater risk.\", 'All these factors together can paint a picture of your risk for developing CAD .', 'What are the symptoms?', \"When coronary arteries become narrow, the heart doesn't get enough oxygen-rich blood.\", 'Remember, unlike most pumps, the heart has to pump its own energy supply.', \"It's working harder with less.\", 'And you may begin to notice these signs and symptoms of pressure or tightness in your chest.', 'This pain is called angina.', 'It may feel like somebody is standing on your chest.', \"When your heart can't pump enough blood to meet your body's needs, you might develop shortness of breath or extreme fatigue during activities.\", 'And if an artery becomes totally blocked, it leads to a heart attack.', 'Classic signs and symptoms of a heart attack include crushing, substernal chest pain, pain in your shoulders or arms, shortness of breath, and sweating.', 'However, many heart attacks have minimal or no symptoms and are found later during routine testing.', 'How is it diagnosed?', 'Diagnosing CAD starts by talking to your doctor.', \"They'll be able to look at your medical history, do a physical exam and order routine blood work.\", 'Depending on that, they may suggest one or more of the following tests: an electrocardiogram or ECG, an echocardiogram or soundwave test of the heart, stress test, cardiac catheterization and angiogram, or a cardiac CT scan.', 'How is it treated?', 'Treating coronary artery disease usually means making changes to your lifestyle.', 'This might be eating healthier foods, exercising regularly, losing excess weight, reducing stress or quitting smoking.', 'The good news is these changes can do a lot to improve your outlook.', 'Living a healthier life translates to having healthier arteries.', 'When necessary, treatment could involve drugs like aspirin, cholesterol-modifying medications, beta-blockers, or certain medical procedures like angioplasty or coronary artery bypass surgery.', 'What now?', 'Discovering you have coronary artery disease can be overwhelming.', 'But be encouraged.', 'There are things you can do to manage and live with this condition.', 'Reducing cholesterol, lowering blood pressure, quitting tobacco, eating healthier, exercising and managing your stress can make a world of difference.', 'Better heart health starts by educating yourself.', \"So don't be afraid to seek out information and ask your doctors about coronary artery disease.\", \"If you'd like to learn even more about this condition, watch our other related videos or visit Mayoclinic.org.\", 'We wish you well.', 'Heart disease symptoms caused by irregular heartbeats, called arrhythmias\\n\\nThe heart may beat too quickly, too slowly or irregularly.', 'Heart arrhythmia symptoms can include:\\n\\nChest pain or discomfort.', 'Dizziness.', 'Fainting or almost fainting.', 'Fluttering in the chest.', 'Lightheadedness.', 'Racing heartbeat.', 'Shortness of breath.', 'Slow heartbeat.', 'Heart disease symptoms caused by congenital heart defects\\n\\nA congenital heart defect is a heart condition present at birth.', 'Serious congenital heart defects usually are noticed soon after birth.', 'Congenital heart defect symptoms in children could include:\\n\\nBlue or gray skin.', 'Depending on skin color, these changes may be easier or harder to see.', 'Swelling in the legs, belly area or areas around the eyes.', 'In an infant, shortness of breath during feedings, leading to poor weight gain.', 'Some congenital heart defects may not be found until later in childhood or during adulthood.', 'Symptoms may include:\\n\\nGetting very short of breath during exercise or activity.', 'Easily tiring during exercise or activity.', 'Swelling of the hands, ankles or feet.', 'Heart disease symptoms caused by diseased heart muscle, called cardiomyopathy\\n\\nIn the beginning, cardiomyopathy may not cause noticeable symptoms.', 'As the condition gets worse, symptoms may include:\\n\\nDizziness, lightheadedness and fainting.', 'Fatigue.', 'Feeling short of breath during activity or at rest.', 'Feeling short of breath at night when trying to sleep, or waking up short of breath.', 'Rapid, pounding or fluttering heartbeats.', 'Swollen legs, ankles or feet.', 'Heart disease symptoms caused by heart valve disease\\n\\nThe heart has four valves.', 'The valves open and close to move blood through the heart.', 'Many things can damage the heart valves.', \"If a heart valve is narrowed, it's called stenosis.\", \"If a heart valve lets blood flow backward, it's called regurgitation.\", \"Symptoms of heart valve disease depend on which valve isn't working right.\", 'Symptoms may include:\\n\\nChest pain.', 'Fainting or almost fainting.', 'Fatigue.', 'Irregular heartbeats.', 'Shortness of breath.', 'Swollen feet or ankles.', 'When to see a doctor\\n\\nGet emergency medical help if you have these heart disease symptoms:\\n\\nChest pain.', 'Shortness of breath.', 'Fainting.', 'Always call 911 or your local emergency number if you think you might be having a heart attack.', 'If you think you may have symptoms of heart disease, make an appointment for a health checkup.', 'Heart disease is easier to treat when found early.', 'There is a problem with information submitted for this request.', 'Review/update the information highlighted below and resubmit the form.', 'From Mayo Clinic to your inbox Sign up for free and stay up to date on research advancements, health tips, current health topics, and expertise on managing health.', 'Click here for an email preview.', 'Email Address 1 ErrorEmail field is required ErrorInclude a valid email address Learn more about Mayo Clinic’s use of data.', 'We use the data you provide to deliver you the content you requested.', 'To provide you with the most relevant and helpful information, we may combine your email and website data with other information we have about you.', 'If you are a Mayo Clinic patient, we will only use your protected health information as outlined in our Notice of Privacy Practices.', 'You may opt out of email communications at any time by clicking on the unsubscribe link in the email.', 'Subscribe!', 'Thank you for subscribing!', \"You'll soon start receiving the latest Mayo Clinic health information you requested in your inbox.\", 'Sorry something went wrong with your subscription Please, try again in a couple of minutes Retry\\n\\nCauses\\n\\nHeart disease causes depend on the specific type of heart disease.', 'There are many different types of heart disease.', 'How the heart works\\n\\nChambers and valves of the heart Enlarge image Close Chambers and valves of the heart Chambers and valves of the heart A typical heart has two upper and two lower chambers.', 'The upper chambers, the right and left atria, receive incoming blood.', 'The lower chambers, the more muscular right and left ventricles, pump blood out of the heart.', 'The heart valves are gates at the chamber openings.', 'They keep blood flowing in the right direction.', 'To understand the causes of heart disease, it may help to understand how the heart works.', 'The heart has four chambers.', 'The two upper chambers are called the atria.', 'The two lower chambers are called the ventricles.', 'The right side of the heart moves blood to the lungs through blood vessels called the pulmonary arteries.', 'In the lungs, blood gets oxygen.', 'The oxygen-rich blood goes to the left side of the heart through the pulmonary veins.', \"The left side of the heart then pumps the blood through the body's main artery, called the aorta.\", 'The blood then goes to the rest of the body.', 'Heart valves\\n\\nFour valves in the heart keep blood flowing in the right direction.', 'These valves are:\\n\\nAortic valve.', 'Mitral valve.', 'Pulmonary valve.', 'Tricuspid valve.', 'Each valve has flaps, called leaflets or cusps.', 'The flaps open and close once during each heartbeat.', \"If a valve flap doesn't open or close properly, less blood moves out of the heart to the rest of the body.\", \"Heartbeats\\n\\nThe heart's electrical system keeps the heart beating.\", \"The heart's electrical signals start in a group of cells at the top of the heart called the sinus node.\", 'They pass through a pathway between the upper and lower heart chambers called the atrioventricular (AV) node.', 'The movement of the signals causes the heart to squeeze and pump blood.', \"Causes of coronary artery disease\\n\\nDevelopment of atherosclerosis Enlarge image Close Development of atherosclerosis Development of atherosclerosis If there's too much cholesterol in the blood, the cholesterol and other substances may form deposits called plaque.\", 'Plaque can cause an artery to become narrowed or blocked.', 'If a plaque ruptures, a blood clot can form.', 'Plaque and blood clots can reduce blood flow through an artery.', 'A buildup of fatty substances in the arteries, called atherosclerosis, is the most common cause of coronary artery disease.', 'Risk factors include an unhealthy diet, lack of exercise, obesity, and smoking.', 'Healthy-lifestyle choices can help lower the risk of atherosclerosis.', 'Causes of irregular heartbeats, called arrhythmias\\n\\nCommon causes of arrhythmias or conditions that can lead to them include:\\n\\nHeart muscle disease, called cardiomyopathy.', 'Coronary artery disease.', 'Diabetes.', 'Illegal drugs such as cocaine.', 'Emotional stress.', 'Too much alcohol or caffeine.', 'Heart conditions present at birth, called congenital heart defects.', 'High blood pressure.', 'Smoking.', 'Heart valve disease.', 'Some medicines, herbs and supplements.', 'Causes of congenital heart defects\\n\\nA congenital heart defect happens while a baby is growing in the womb.', \"Healthcare professionals aren't sure exactly what causes most congenital heart defects.\", 'But gene changes, some medical conditions, some medicines, and environmental or lifestyle factors may play a role.', 'Causes of heart muscle disease, called cardiomyopathy\\n\\nThe cause of cardiomyopathy depends on the type.', 'There are three types:\\n\\nDilated cardiomyopathy.', 'This is the most common type of cardiomyopathy.', 'The cause is often unknown.', \"It may be passed down through families, which means it's inherited.\", 'This is the most common type of cardiomyopathy.', 'The cause is often unknown.', \"It may be passed down through families, which means it's inherited.\", 'Hypertrophic cardiomyopathy.', 'This type is usually passed down through families.', 'This type is usually passed down through families.', 'Restrictive cardiomyopathy.', 'This type of cardiomyopathy can happen for no known reason.', 'Sometimes a buildup of protein called amyloid causes it.', 'Other causes include connective tissue disorders.', 'Causes of heart valve disease\\n\\nMany things can cause a damaged or diseased heart valve.', 'Some people are born with heart valve disease.', \"If this happens, it's called congenital heart valve disease.\", 'Other causes of heart valve disease can include:\\n\\nRheumatic fever.', 'Infection in the lining of the heart valves, called infectious endocarditis.', 'Connective tissue disorders.', 'Risk factors\\n\\nRisk factors for heart disease include:\\n\\nAge.', 'Growing older increases the risk of damaged and narrowed arteries and a weakened or thickened heart muscle.', 'Growing older increases the risk of damaged and narrowed arteries and a weakened or thickened heart muscle.', 'Sex assigned at birth.', 'Men are generally at greater risk of heart disease.', 'The risk in women increases after menopause.', 'Men are generally at greater risk of heart disease.', 'The risk in women increases after menopause.', 'Family history.', 'A family history of heart disease increases the risk of coronary artery disease, especially if a parent developed it at an early age.', 'That means before age 55 for a male relative, such as a brother or your father, and 65 for a female relative, such as your mother or a sister.', 'A family history of heart disease increases the risk of coronary artery disease, especially if a parent developed it at an early age.', 'That means before age 55 for a male relative, such as a brother or your father, and 65 for a female relative, such as your mother or a sister.', 'Smoking.', 'If you smoke, quit.', 'Substances in tobacco smoke damage the arteries.', \"Heart attacks are more common in people who smoke than in people who don't smoke.\", 'Talk with a healthcare professional if you need help quitting.', 'If you smoke, quit.', 'Substances in tobacco smoke damage the arteries.', \"Heart attacks are more common in people who smoke than in people who don't smoke.\", 'Talk with a healthcare professional if you need help quitting.', 'Unhealthy diet.', 'Diets high in fat, salt, sugar and cholesterol have been linked to heart disease.', 'Diets high in fat, salt, sugar and cholesterol have been linked to heart disease.', 'High blood pressure.', \"High blood pressure that's not controlled can cause the arteries to become hard and thick.\", 'These changes alter blood flow to the heart and body.', \"High blood pressure that's not controlled can cause the arteries to become hard and thick.\", 'These changes alter blood flow to the heart and body.', 'High cholesterol.', 'Having high cholesterol increases the risk of atherosclerosis.', 'Atherosclerosis has been linked to heart attack and stroke.', 'Having high cholesterol increases the risk of atherosclerosis.', 'Atherosclerosis has been linked to heart attack and stroke.', 'Diabetes.', 'Diabetes increases the risk of heart disease.', 'Obesity and high blood pressure increase the risk of diabetes and heart disease.', 'Diabetes increases the risk of heart disease.', 'Obesity and high blood pressure increase the risk of diabetes and heart disease.', 'Obesity.', 'Excess weight typically worsens other heart disease risk factors.', 'Excess weight typically worsens other heart disease risk factors.', 'Lack of exercise.', 'Being inactive is associated with many forms of heart disease and some of its risk factors too.', 'Being inactive is associated with many forms of heart disease and some of its risk factors too.', 'Stress.', 'Emotional stress may damage the arteries and make other heart disease risk factors worse.', 'Emotional stress may damage the arteries and make other heart disease risk factors worse.', 'Poor dental health.', 'Having unhealthy teeth and gums makes it easier for germs to get into the bloodstream and travel to the heart.', 'This can cause an infection called endocarditis.', 'Brush and floss your teeth often.', 'Also get regular dental checkups.', 'Complications\\n\\nPossible complications of heart disease are:\\n\\nHeart failure.', 'This is one of the most common complications of heart disease.', \"The heart can't pump enough blood to meet the body's needs.\", 'This is one of the most common complications of heart disease.', \"The heart can't pump enough blood to meet the body's needs.\", 'Heart attack.', 'A heart attack can happen if a piece of plaque in an artery or a blood clot moves to the heart.', 'A heart attack can happen if a piece of plaque in an artery or a blood clot moves to the heart.', 'Stroke.', 'The risk factors that lead to heart disease also can lead to an ischemic stroke.', 'This type of stroke happens when the arteries to the brain are narrowed or blocked.', 'Too little blood reaches the brain.', 'The risk factors that lead to heart disease also can lead to an ischemic stroke.', 'This type of stroke happens when the arteries to the brain are narrowed or blocked.', 'Too little blood reaches the brain.', 'Aneurysm.', 'An aneurysm is a bulge in the wall of an artery.', 'If an aneurysm bursts, you may have life-threatening internal bleeding.', 'An aneurysm is a bulge in the wall of an artery.', 'If an aneurysm bursts, you may have life-threatening internal bleeding.', 'Peripheral artery disease.', \"In this condition, the arms or legs — usually the legs — don't get enough blood.\", 'This causes symptoms, most notably leg pain when walking, called claudication.', 'Atherosclerosis can lead to peripheral artery disease.', \"In this condition, the arms or legs — usually the legs — don't get enough blood.\", 'This causes symptoms, most notably leg pain when walking, called claudication.', 'Atherosclerosis can lead to peripheral artery disease.', 'Sudden cardiac arrest.', 'Sudden cardiac arrest is the sudden loss of heart activity, breathing and consciousness.', \"It's usually due to a problem with the heart's electrical system.\", 'Sudden cardiac arrest is a medical emergency.', 'If not treated immediately, it results in sudden cardiac death.', 'Prevention\\n\\nThe same lifestyle changes used to manage heart disease also may help prevent it.', 'Try these heart-healthy tips:']\n"
          ]
        }
      ]
    },
    {
      "cell_type": "code",
      "source": [
        "#Function to return a random greeting response to a users greeting\n",
        "def greeting_response(text):\n",
        "  text = text.lower()\n",
        "\n",
        "  #Doctor Bot's Greeting Response\n",
        "  bot_greetings = ['hey','hello','hi','howdy','hola']\n",
        "  #users greeting\n",
        "  user_greetings = ['hi','hey','hola','greeting', 'wassup']\n",
        "\n",
        "  for word in text.split():\n",
        "    if word in user_greetings:\n",
        "      return random.choice(bot_greetings)"
      ],
      "metadata": {
        "id": "2a7gicVziJtl"
      },
      "execution_count": 49,
      "outputs": []
    },
    {
      "cell_type": "code",
      "source": [
        "def index_sort(list_var):\n",
        "  length = len(list_var)\n",
        "  list_index = list(range(0,length))\n",
        "\n",
        "  x = list_var\n",
        "  for i in range(length):\n",
        "    for j in range(length):\n",
        "      if x[list_index[i]] > x[list_index[j]]:\n",
        "        #swaap\n",
        "        temp = list_index[i]\n",
        "        list_index[i] = list_index[j]\n",
        "        list_index[j] = temp\n",
        "\n",
        "  return list_index"
      ],
      "metadata": {
        "id": "bbBUw80Sl2qx"
      },
      "execution_count": 50,
      "outputs": []
    },
    {
      "cell_type": "code",
      "source": [
        "#creating the bot response\n",
        "def bot_response(user_input):\n",
        "  user_input = user_input.lower()\n",
        "  sentence_list.append(user_input)\n",
        "  bot_response = ''\n",
        "  from sklearn.feature_extraction.text import TfidfVectorizer\n",
        "  vectorizer = TfidfVectorizer()\n",
        "  cm = CountVectorizer().fit_transform(sentence_list)\n",
        "  similarity_scores = cosine_similarity(cm[-1],cm)\n",
        "  similarity_scores_list = similarity_scores.flatten()\n",
        "  index = index_sort(similarity_scores_list)\n",
        "  index = index[1:]\n",
        "  response_flag = 0\n",
        "\n",
        "  j = 0\n",
        "  for i in range(len(index)):\n",
        "    if similarity_scores_list[index[i]] > 0.0:\n",
        "      bot_response = bot_response+' '+sentence_list[index[i]]\n",
        "      response_flag = 1\n",
        "      j = j+1\n",
        "    if j > 2:\n",
        "      break\n",
        "\n",
        "  if response_flag == 0:\n",
        "    bot_response = bot_response+' '+\"I apologize, I don't understand.\"\n",
        "\n",
        "  sentence_list.remove(user_input)\n",
        "\n",
        "  return bot_response"
      ],
      "metadata": {
        "id": "33AthT7jjT2e"
      },
      "execution_count": 57,
      "outputs": []
    },
    {
      "cell_type": "code",
      "source": [
        "# Define ANSI color codes\n",
        "COLOR_USER = \"\\033[94m\"     # Blue for user\n",
        "COLOR_BOT = \"\\033[92m\"      # Green for bot\n",
        "\n",
        "# Start message\n",
        "print(f\"{COLOR_BOT}Doctor Bot: I am Doctor Bot. I will answer your queries about heart disease. If you want to exit, type 'bye'.\")\n",
        "\n",
        "# Exit words\n",
        "exit_list = ['exit', 'left', 'see you later', 'bye', 'quit', 'break']\n",
        "\n",
        "# Chat loop\n",
        "while True:\n",
        "    user_input = input(f\"{COLOR_USER}You: \")\n",
        "\n",
        "    if user_input.lower() in exit_list:\n",
        "        print(f\"{COLOR_BOT}Doc Bot: Get back with you later!!Chat Soon\")\n",
        "        break\n",
        "\n",
        "    elif greeting_response(user_input) is not None:\n",
        "        bot_reply = greeting_response(user_input)\n",
        "    else:\n",
        "        bot_reply = bot_response(user_input)\n",
        "\n",
        "    # Print the conversation\n",
        "    print(f\"{COLOR_BOT}Doc Bot: {bot_reply}\")\n"
      ],
      "metadata": {
        "colab": {
          "base_uri": "https://localhost:8080/"
        },
        "id": "chcu1mgmqOKD",
        "outputId": "eef9e77d-d02f-4886-b93d-748cb12e6d1e"
      },
      "execution_count": 80,
      "outputs": [
        {
          "output_type": "stream",
          "name": "stdout",
          "text": [
            "\u001b[92mDoctor Bot: I am Doctor Bot. I will answer your queries about heart disease. If you want to exit, type 'bye'.\n",
            "\u001b[94mYou: hey\n",
            "\u001b[92mDoc Bot: hi\n",
            "\u001b[94mYou: arrhythmias\n",
            "\u001b[92mDoc Bot:  Irregular heartbeats, called arrhythmias. Causes of irregular heartbeats, called arrhythmias\n",
            "\n",
            "Common causes of arrhythmias or conditions that can lead to them include:\n",
            "\n",
            "Heart muscle disease, called cardiomyopathy. Heart disease symptoms caused by irregular heartbeats, called arrhythmias\n",
            "\n",
            "The heart may beat too quickly, too slowly or irregularly.\n",
            "\u001b[94mYou: bye\n",
            "\u001b[92mDoc Bot: Get back with you later!!Chat Soon\n"
          ]
        }
      ]
    },
    {
      "cell_type": "code",
      "source": [],
      "metadata": {
        "id": "BjstvE_VzlkE"
      },
      "execution_count": null,
      "outputs": []
    }
  ]
}